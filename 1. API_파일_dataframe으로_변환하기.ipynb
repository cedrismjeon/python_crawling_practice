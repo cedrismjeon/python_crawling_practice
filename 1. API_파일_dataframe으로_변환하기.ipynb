{
  "nbformat": 4,
  "nbformat_minor": 0,
  "metadata": {
    "colab": {
      "name": "1. API 파일 dataframe으로 변환하기.ipynb",
      "provenance": [],
      "collapsed_sections": [],
      "authorship_tag": "ABX9TyOc4f7DPPyRDg6NGeq+7XKP",
      "include_colab_link": true
    },
    "kernelspec": {
      "name": "python3",
      "display_name": "Python 3"
    }
  },
  "cells": [
    {
      "cell_type": "markdown",
      "metadata": {
        "id": "view-in-github",
        "colab_type": "text"
      },
      "source": [
        "<a href=\"https://colab.research.google.com/github/cedrismjeon/python_crawling_practice/blob/main/1.%20API_%ED%8C%8C%EC%9D%BC_dataframe%EC%9C%BC%EB%A1%9C_%EB%B3%80%ED%99%98%ED%95%98%EA%B8%B0.ipynb\" target=\"_parent\"><img src=\"https://colab.research.google.com/assets/colab-badge.svg\" alt=\"Open In Colab\"/></a>"
      ]
    },
    {
      "cell_type": "code",
      "metadata": {
        "id": "Sh2Xqn0PFpxF"
      },
      "source": [
        "import requests\n",
        "import json\n",
        "import pandas as pd \n",
        "import numpy as np"
      ],
      "execution_count": 75,
      "outputs": []
    },
    {
      "cell_type": "code",
      "metadata": {
        "id": "XGAp4b5bA6Az"
      },
      "source": [
        "key = 'j60JiKer7Dd5U2XRx0txQGfM%2B5qtD3WDgmZngbes60TDUiEZeSRVk4%2BnV8dCWnDC523LqLe683X41sgYUBE5dQ%3D%3D'\n",
        "url = 'http://apis.data.go.kr/B551172/thrd/patientNumber?page=1&perPage=100&serviceKey={}'.format(key)\n",
        "data = requests.get(url)"
      ],
      "execution_count": 76,
      "outputs": []
    },
    {
      "cell_type": "code",
      "metadata": {
        "colab": {
          "base_uri": "https://localhost:8080/"
        },
        "id": "oBZe5Pl3C4Ka",
        "outputId": "fc7aed16-3b55-45f8-a527-a2463fae317e"
      },
      "source": [
        "print(data)"
      ],
      "execution_count": 77,
      "outputs": [
        {
          "output_type": "stream",
          "text": [
            "<Response [200]>\n"
          ],
          "name": "stdout"
        }
      ]
    },
    {
      "cell_type": "code",
      "metadata": {
        "colab": {
          "base_uri": "https://localhost:8080/",
          "height": 103
        },
        "id": "nKS81Az7FeXH",
        "outputId": "c06b4a62-e9c7-4613-b2b6-e06a6ba39fa0"
      },
      "source": [
        "data.text"
      ],
      "execution_count": 78,
      "outputs": [
        {
          "output_type": "execute_result",
          "data": {
            "application/vnd.google.colaboratory.intrinsic+json": {
              "type": "string"
            },
            "text/plain": [
              "'{\"response\":{\"pageNo\":1,\"numOfRows\":100,\"totalCount\":1449,\"items\":{\"item\":[{\"centerNm\":\"국립암센터\",\"critYr\":2019,\"ptAge\":75,\"ptSexCd\":\"F\",\"statsTrgtNm\":\"\",\"ncsNmvl\":0,\"wholNcsDnmvl\":0,\"ptCntNmvl\":4,\"wholPtCntDnmvl\":0,\"bycntrWholPtCntDnmvl\":0},{\"centerNm\":\"국립암센터\",\"critYr\":2015,\"ptAge\":45,\"ptSexCd\":\"M\",\"statsTrgtNm\":\"\",\"ncsNmvl\":0,\"wholNcsDnmvl\":0,\"ptCntNmvl\":3,\"wholPtCntDnmvl\":0,\"bycntrWholPtCntDnmvl\":0},{\"centerNm\":\"국립암센터\",\"critYr\":2010,\"ptAge\":58,\"ptSexCd\":\"F\",\"statsTrgtNm\":\"\",\"ncsNmvl\":0,\"wholNcsDnmvl\":0,\"ptCntNmvl\":17,\"wholPtCntDnmvl\":0,\"bycntrWholPtCntDnmvl\":0},{\"centerNm\":\"국립암센터\",\"critYr\":2019,\"ptAge\":61,\"ptSexCd\":\"M\",\"statsTrgtNm\":\"\",\"ncsNmvl\":0,\"wholNcsDnmvl\":0,\"ptCntNmvl\":2,\"wholPtCntDnmvl\":0,\"bycntrWholPtCntDnmvl\":0},{\"centerNm\":\"국립암센터\",\"critYr\":2016,\"ptAge\":58,\"ptSexCd\":\"F\",\"statsTrgtNm\":\"\",\"ncsNmvl\":0,\"wholNcsDnmvl\":0,\"ptCntNmvl\":9,\"wholPtCntDnmvl\":0,\"bycntrWholPtCntDnmvl\":0},{\"centerNm\":\"국립암센터\",\"critYr\":2013,\"ptAge\":42,\"ptSexCd\":\"F\",\"statsTrgtNm\":\"\",\"ncsNmvl\":0,\"wholNcsDnmvl\":0,\"ptCntNmvl\":25,\"wholPtCntDnmvl\":0,\"bycntrWholPtCntDnmvl\":0},{\"centerNm\":\"국립암센터\",\"critYr\":2015,\"ptAge\":36,\"ptSexCd\":\"M\",\"statsTrgtNm\":\"\",\"ncsNmvl\":0,\"wholNcsDnmvl\":0,\"ptCntNmvl\":1,\"wholPtCntDnmvl\":0,\"bycntrWholPtCntDnmvl\":0},{\"centerNm\":\"국립암센터\",\"critYr\":2019,\"ptAge\":50,\"ptSexCd\":\"F\",\"statsTrgtNm\":\"\",\"ncsNmvl\":0,\"wholNcsDnmvl\":0,\"ptCntNmvl\":23,\"wholPtCntDnmvl\":0,\"bycntrWholPtCntDnmvl\":0},{\"centerNm\":\"국립암센터\",\"critYr\":2009,\"ptAge\":41,\"ptSexCd\":\"F\",\"statsTrgtNm\":\"\",\"ncsNmvl\":0,\"wholNcsDnmvl\":0,\"ptCntNmvl\":20,\"wholPtCntDnmvl\":0,\"bycntrWholPtCntDnmvl\":0},{\"centerNm\":\"국립암센터\",\"critYr\":2015,\"ptAge\":35,\"ptSexCd\":\"F\",\"statsTrgtNm\":\"\",\"ncsNmvl\":0,\"wholNcsDnmvl\":0,\"ptCntNmvl\":15,\"wholPtCntDnmvl\":0,\"bycntrWholPtCntDnmvl\":0},{\"centerNm\":\"국립암센터\",\"critYr\":2019,\"ptAge\":51,\"ptSexCd\":\"M\",\"statsTrgtNm\":\"\",\"ncsNmvl\":0,\"wholNcsDnmvl\":0,\"ptCntNmvl\":5,\"wholPtCntDnmvl\":0,\"bycntrWholPtCntDnmvl\":0},{\"centerNm\":\"국립암센터\",\"critYr\":2017,\"ptAge\":47,\"ptSexCd\":\"F\",\"statsTrgtNm\":\"\",\"ncsNmvl\":0,\"wholNcsDnmvl\":0,\"ptCntNmvl\":10,\"wholPtCntDnmvl\":0,\"bycntrWholPtCntDnmvl\":0},{\"centerNm\":\"국립암센터\",\"critYr\":2013,\"ptAge\":32,\"ptSexCd\":\"M\",\"statsTrgtNm\":\"\",\"ncsNmvl\":0,\"wholNcsDnmvl\":0,\"ptCntNmvl\":1,\"wholPtCntDnmvl\":0,\"bycntrWholPtCntDnmvl\":0},{\"centerNm\":\"국립암센터\",\"critYr\":2014,\"ptAge\":38,\"ptSexCd\":\"M\",\"statsTrgtNm\":\"\",\"ncsNmvl\":0,\"wholNcsDnmvl\":0,\"ptCntNmvl\":3,\"wholPtCntDnmvl\":0,\"bycntrWholPtCntDnmvl\":0},{\"centerNm\":\"국립암센터\",\"critYr\":2013,\"ptAge\":52,\"ptSexCd\":\"F\",\"statsTrgtNm\":\"\",\"ncsNmvl\":0,\"wholNcsDnmvl\":0,\"ptCntNmvl\":38,\"wholPtCntDnmvl\":0,\"bycntrWholPtCntDnmvl\":0},{\"centerNm\":\"국립암센터\",\"critYr\":2019,\"ptAge\":31,\"ptSexCd\":\"M\",\"statsTrgtNm\":\"\",\"ncsNmvl\":0,\"wholNcsDnmvl\":0,\"ptCntNmvl\":3,\"wholPtCntDnmvl\":0,\"bycntrWholPtCntDnmvl\":0},{\"centerNm\":\"국립암센터\",\"critYr\":2008,\"ptAge\":53,\"ptSexCd\":\"M\",\"statsTrgtNm\":\"\",\"ncsNmvl\":0,\"wholNcsDnmvl\":0,\"ptCntNmvl\":6,\"wholPtCntDnmvl\":0,\"bycntrWholPtCntDnmvl\":0},{\"centerNm\":\"국립암센터\",\"critYr\":2016,\"ptAge\":47,\"ptSexCd\":\"F\",\"statsTrgtNm\":\"\",\"ncsNmvl\":0,\"wholNcsDnmvl\":0,\"ptCntNmvl\":16,\"wholPtCntDnmvl\":0,\"bycntrWholPtCntDnmvl\":0},{\"centerNm\":\"국립암센터\",\"critYr\":2010,\"ptAge\":70,\"ptSexCd\":\"M\",\"statsTrgtNm\":\"\",\"ncsNmvl\":0,\"wholNcsDnmvl\":0,\"ptCntNmvl\":2,\"wholPtCntDnmvl\":0,\"bycntrWholPtCntDnmvl\":0},{\"centerNm\":\"국립암센터\",\"critYr\":2018,\"ptAge\":65,\"ptSexCd\":\"M\",\"statsTrgtNm\":\"\",\"ncsNmvl\":0,\"wholNcsDnmvl\":0,\"ptCntNmvl\":3,\"wholPtCntDnmvl\":0,\"bycntrWholPtCntDnmvl\":0},{\"centerNm\":\"국립암센터\",\"critYr\":2014,\"ptAge\":33,\"ptSexCd\":\"F\",\"statsTrgtNm\":\"\",\"ncsNmvl\":0,\"wholNcsDnmvl\":0,\"ptCntNmvl\":13,\"wholPtCntDnmvl\":0,\"bycntrWholPtCntDnmvl\":0},{\"centerNm\":\"국립암센터\",\"critYr\":2009,\"ptAge\":60,\"ptSexCd\":\"M\",\"statsTrgtNm\":\"\",\"ncsNmvl\":0,\"wholNcsDnmvl\":0,\"ptCntNmvl\":2,\"wholPtCntDnmvl\":0,\"bycntrWholPtCntDnmvl\":0},{\"centerNm\":\"국립암센터\",\"critYr\":2012,\"ptAge\":37,\"ptSexCd\":\"M\",\"statsTrgtNm\":\"\",\"ncsNmvl\":0,\"wholNcsDnmvl\":0,\"ptCntNmvl\":2,\"wholPtCntDnmvl\":0,\"bycntrWholPtCntDnmvl\":0},{\"centerNm\":\"국립암센터\",\"critYr\":2012,\"ptAge\":63,\"ptSexCd\":\"F\",\"statsTrgtNm\":\"\",\"ncsNmvl\":0,\"wholNcsDnmvl\":0,\"ptCntNmvl\":10,\"wholPtCntDnmvl\":0,\"bycntrWholPtCntDnmvl\":0},{\"centerNm\":\"국립암센터\",\"critYr\":2008,\"ptAge\":69,\"ptSexCd\":\"M\",\"statsTrgtNm\":\"\",\"ncsNmvl\":0,\"wholNcsDnmvl\":0,\"ptCntNmvl\":2,\"wholPtCntDnmvl\":0,\"bycntrWholPtCntDnmvl\":0},{\"centerNm\":\"국립암센터\",\"critYr\":2019,\"ptAge\":64,\"ptSexCd\":\"M\",\"statsTrgtNm\":\"\",\"ncsNmvl\":0,\"wholNcsDnmvl\":0,\"ptCntNmvl\":2,\"wholPtCntDnmvl\":0,\"bycntrWholPtCntDnmvl\":0},{\"centerNm\":\"국립암센터\",\"critYr\":2015,\"ptAge\":61,\"ptSexCd\":\"M\",\"statsTrgtNm\":\"\",\"ncsNmvl\":0,\"wholNcsDnmvl\":0,\"ptCntNmvl\":1,\"wholPtCntDnmvl\":0,\"bycntrWholPtCntDnmvl\":0},{\"centerNm\":\"국립암센터\",\"critYr\":2008,\"ptAge\":50,\"ptSexCd\":\"F\",\"statsTrgtNm\":\"\",\"ncsNmvl\":0,\"wholNcsDnmvl\":0,\"ptCntNmvl\":16,\"wholPtCntDnmvl\":0,\"bycntrWholPtCntDnmvl\":0},{\"centerNm\":\"국립암센터\",\"critYr\":2014,\"ptAge\":28,\"ptSexCd\":\"F\",\"statsTrgtNm\":\"\",\"ncsNmvl\":0,\"wholNcsDnmvl\":0,\"ptCntNmvl\":4,\"wholPtCntDnmvl\":0,\"bycntrWholPtCntDnmvl\":0},{\"centerNm\":\"국립암센터\",\"critYr\":2010,\"ptAge\":71,\"ptSexCd\":\"F\",\"statsTrgtNm\":\"\",\"ncsNmvl\":0,\"wholNcsDnmvl\":0,\"ptCntNmvl\":2,\"wholPtCntDnmvl\":0,\"bycntrWholPtCntDnmvl\":0},{\"centerNm\":\"국립암센터\",\"critYr\":2008,\"ptAge\":35,\"ptSexCd\":\"M\",\"statsTrgtNm\":\"\",\"ncsNmvl\":0,\"wholNcsDnmvl\":0,\"ptCntNmvl\":4,\"wholPtCntDnmvl\":0,\"bycntrWholPtCntDnmvl\":0},{\"centerNm\":\"국립암센터\",\"critYr\":2020,\"ptAge\":49,\"ptSexCd\":\"F\",\"statsTrgtNm\":\"\",\"ncsNmvl\":0,\"wholNcsDnmvl\":0,\"ptCntNmvl\":8,\"wholPtCntDnmvl\":0,\"bycntrWholPtCntDnmvl\":0},{\"centerNm\":\"국립암센터\",\"critYr\":2020,\"ptAge\":64,\"ptSexCd\":\"M\",\"statsTrgtNm\":\"\",\"ncsNmvl\":0,\"wholNcsDnmvl\":0,\"ptCntNmvl\":2,\"wholPtCntDnmvl\":0,\"bycntrWholPtCntDnmvl\":0},{\"centerNm\":\"국립암센터\",\"critYr\":2010,\"ptAge\":82,\"ptSexCd\":\"F\",\"statsTrgtNm\":\"\",\"ncsNmvl\":0,\"wholNcsDnmvl\":0,\"ptCntNmvl\":2,\"wholPtCntDnmvl\":0,\"bycntrWholPtCntDnmvl\":0},{\"centerNm\":\"국립암센터\",\"critYr\":2015,\"ptAge\":72,\"ptSexCd\":\"M\",\"statsTrgtNm\":\"\",\"ncsNmvl\":0,\"wholNcsDnmvl\":0,\"ptCntNmvl\":2,\"wholPtCntDnmvl\":0,\"bycntrWholPtCntDnmvl\":0},{\"centerNm\":\"국립암센터\",\"critYr\":2008,\"ptAge\":46,\"ptSexCd\":\"M\",\"statsTrgtNm\":\"\",\"ncsNmvl\":0,\"wholNcsDnmvl\":0,\"ptCntNmvl\":5,\"wholPtCntDnmvl\":0,\"bycntrWholPtCntDnmvl\":0},{\"centerNm\":\"국립암센터\",\"critYr\":2011,\"ptAge\":27,\"ptSexCd\":\"F\",\"statsTrgtNm\":\"\",\"ncsNmvl\":0,\"wholNcsDnmvl\":0,\"ptCntNmvl\":9,\"wholPtCntDnmvl\":0,\"bycntrWholPtCntDnmvl\":0},{\"centerNm\":\"국립암센터\",\"critYr\":2011,\"ptAge\":74,\"ptSexCd\":\"F\",\"statsTrgtNm\":\"\",\"ncsNmvl\":0,\"wholNcsDnmvl\":0,\"ptCntNmvl\":2,\"wholPtCntDnmvl\":0,\"bycntrWholPtCntDnmvl\":0},{\"centerNm\":\"국립암센터\",\"critYr\":2009,\"ptAge\":61,\"ptSexCd\":\"M\",\"statsTrgtNm\":\"\",\"ncsNmvl\":0,\"wholNcsDnmvl\":0,\"ptCntNmvl\":1,\"wholPtCntDnmvl\":0,\"bycntrWholPtCntDnmvl\":0},{\"centerNm\":\"국립암센터\",\"critYr\":2016,\"ptAge\":35,\"ptSexCd\":\"F\",\"statsTrgtNm\":\"\",\"ncsNmvl\":0,\"wholNcsDnmvl\":0,\"ptCntNmvl\":10,\"wholPtCntDnmvl\":0,\"bycntrWholPtCntDnmvl\":0},{\"centerNm\":\"국립암센터\",\"critYr\":2008,\"ptAge\":64,\"ptSexCd\":\"F\",\"statsTrgtNm\":\"\",\"ncsNmvl\":0,\"wholNcsDnmvl\":0,\"ptCntNmvl\":5,\"wholPtCntDnmvl\":0,\"bycntrWholPtCntDnmvl\":0},{\"centerNm\":\"국립암센터\",\"critYr\":2017,\"ptAge\":65,\"ptSexCd\":\"M\",\"statsTrgtNm\":\"\",\"ncsNmvl\":0,\"wholNcsDnmvl\":0,\"ptCntNmvl\":1,\"wholPtCntDnmvl\":0,\"bycntrWholPtCntDnmvl\":0},{\"centerNm\":\"국립암센터\",\"critYr\":2012,\"ptAge\":79,\"ptSexCd\":\"F\",\"statsTrgtNm\":\"\",\"ncsNmvl\":0,\"wholNcsDnmvl\":0,\"ptCntNmvl\":1,\"wholPtCntDnmvl\":0,\"bycntrWholPtCntDnmvl\":0},{\"centerNm\":\"국립암센터\",\"critYr\":2014,\"ptAge\":78,\"ptSexCd\":\"F\",\"statsTrgtNm\":\"\",\"ncsNmvl\":0,\"wholNcsDnmvl\":0,\"ptCntNmvl\":3,\"wholPtCntDnmvl\":0,\"bycntrWholPtCntDnmvl\":0},{\"centerNm\":\"국립암센터\",\"critYr\":2011,\"ptAge\":21,\"ptSexCd\":\"F\",\"statsTrgtNm\":\"\",\"ncsNmvl\":0,\"wholNcsDnmvl\":0,\"ptCntNmvl\":3,\"wholPtCntDnmvl\":0,\"bycntrWholPtCntDnmvl\":0},{\"centerNm\":\"국립암센터\",\"critYr\":2015,\"ptAge\":34,\"ptSexCd\":\"M\",\"statsTrgtNm\":\"\",\"ncsNmvl\":0,\"wholNcsDnmvl\":0,\"ptCntNmvl\":1,\"wholPtCntDnmvl\":0,\"bycntrWholPtCntDnmvl\":0},{\"centerNm\":\"국립암센터\",\"critYr\":2019,\"ptAge\":68,\"ptSexCd\":\"M\",\"statsTrgtNm\":\"\",\"ncsNmvl\":0,\"wholNcsDnmvl\":0,\"ptCntNmvl\":1,\"wholPtCntDnmvl\":0,\"bycntrWholPtCntDnmvl\":0},{\"centerNm\":\"국립암센터\",\"critYr\":2016,\"ptAge\":81,\"ptSexCd\":\"M\",\"statsTrgtNm\":\"\",\"ncsNmvl\":0,\"wholNcsDnmvl\":0,\"ptCntNmvl\":1,\"wholPtCntDnmvl\":0,\"bycntrWholPtCntDnmvl\":0},{\"centerNm\":\"국립암센터\",\"critYr\":2016,\"ptAge\":57,\"ptSexCd\":\"M\",\"statsTrgtNm\":\"\",\"ncsNmvl\":0,\"wholNcsDnmvl\":0,\"ptCntNmvl\":1,\"wholPtCntDnmvl\":0,\"bycntrWholPtCntDnmvl\":0},{\"centerNm\":\"국립암센터\",\"critYr\":2013,\"ptAge\":71,\"ptSexCd\":\"M\",\"statsTrgtNm\":\"\",\"ncsNmvl\":0,\"wholNcsDnmvl\":0,\"ptCntNmvl\":1,\"wholPtCntDnmvl\":0,\"bycntrWholPtCntDnmvl\":0},{\"centerNm\":\"국립암센터\",\"critYr\":2016,\"ptAge\":22,\"ptSexCd\":\"F\",\"statsTrgtNm\":\"\",\"ncsNmvl\":0,\"wholNcsDnmvl\":0,\"ptCntNmvl\":1,\"wholPtCntDnmvl\":0,\"bycntrWholPtCntDnmvl\":0},{\"centerNm\":\"국립암센터\",\"critYr\":2018,\"ptAge\":21,\"ptSexCd\":\"M\",\"statsTrgtNm\":\"\",\"ncsNmvl\":0,\"wholNcsDnmvl\":0,\"ptCntNmvl\":1,\"wholPtCntDnmvl\":0,\"bycntrWholPtCntDnmvl\":0},{\"centerNm\":\"국립암센터\",\"critYr\":2013,\"ptAge\":53,\"ptSexCd\":\"F\",\"statsTrgtNm\":\"\",\"ncsNmvl\":0,\"wholNcsDnmvl\":0,\"ptCntNmvl\":32,\"wholPtCntDnmvl\":0,\"bycntrWholPtCntDnmvl\":0},{\"centerNm\":\"국립암센터\",\"critYr\":2013,\"ptAge\":46,\"ptSexCd\":\"F\",\"statsTrgtNm\":\"\",\"ncsNmvl\":0,\"wholNcsDnmvl\":0,\"ptCntNmvl\":34,\"wholPtCntDnmvl\":0,\"bycntrWholPtCntDnmvl\":0},{\"centerNm\":\"국립암센터\",\"critYr\":2010,\"ptAge\":42,\"ptSexCd\":\"F\",\"statsTrgtNm\":\"\",\"ncsNmvl\":0,\"wholNcsDnmvl\":0,\"ptCntNmvl\":26,\"wholPtCntDnmvl\":0,\"bycntrWholPtCntDnmvl\":0},{\"centerNm\":\"국립암센터\",\"critYr\":2013,\"ptAge\":40,\"ptSexCd\":\"M\",\"statsTrgtNm\":\"\",\"ncsNmvl\":0,\"wholNcsDnmvl\":0,\"ptCntNmvl\":7,\"wholPtCntDnmvl\":0,\"bycntrWholPtCntDnmvl\":0},{\"centerNm\":\"국립암센터\",\"critYr\":2008,\"ptAge\":34,\"ptSexCd\":\"M\",\"statsTrgtNm\":\"\",\"ncsNmvl\":0,\"wholNcsDnmvl\":0,\"ptCntNmvl\":1,\"wholPtCntDnmvl\":0,\"bycntrWholPtCntDnmvl\":0},{\"centerNm\":\"국립암센터\",\"critYr\":2014,\"ptAge\":57,\"ptSexCd\":\"M\",\"statsTrgtNm\":\"\",\"ncsNmvl\":0,\"wholNcsDnmvl\":0,\"ptCntNmvl\":8,\"wholPtCntDnmvl\":0,\"bycntrWholPtCntDnmvl\":0},{\"centerNm\":\"국립암센터\",\"critYr\":2009,\"ptAge\":50,\"ptSexCd\":\"F\",\"statsTrgtNm\":\"\",\"ncsNmvl\":0,\"wholNcsDnmvl\":0,\"ptCntNmvl\":30,\"wholPtCntDnmvl\":0,\"bycntrWholPtCntDnmvl\":0},{\"centerNm\":\"국립암센터\",\"critYr\":2008,\"ptAge\":52,\"ptSexCd\":\"F\",\"statsTrgtNm\":\"\",\"ncsNmvl\":0,\"wholNcsDnmvl\":0,\"ptCntNmvl\":27,\"wholPtCntDnmvl\":0,\"bycntrWholPtCntDnmvl\":0},{\"centerNm\":\"국립암센터\",\"critYr\":2013,\"ptAge\":41,\"ptSexCd\":\"F\",\"statsTrgtNm\":\"\",\"ncsNmvl\":0,\"wholNcsDnmvl\":0,\"ptCntNmvl\":9,\"wholPtCntDnmvl\":0,\"bycntrWholPtCntDnmvl\":0},{\"centerNm\":\"국립암센터\",\"critYr\":2020,\"ptAge\":52,\"ptSexCd\":\"F\",\"statsTrgtNm\":\"\",\"ncsNmvl\":0,\"wholNcsDnmvl\":0,\"ptCntNmvl\":10,\"wholPtCntDnmvl\":0,\"bycntrWholPtCntDnmvl\":0},{\"centerNm\":\"국립암센터\",\"critYr\":2018,\"ptAge\":28,\"ptSexCd\":\"F\",\"statsTrgtNm\":\"\",\"ncsNmvl\":0,\"wholNcsDnmvl\":0,\"ptCntNmvl\":5,\"wholPtCntDnmvl\":0,\"bycntrWholPtCntDnmvl\":0},{\"centerNm\":\"국립암센터\",\"critYr\":2012,\"ptAge\":57,\"ptSexCd\":\"M\",\"statsTrgtNm\":\"\",\"ncsNmvl\":0,\"wholNcsDnmvl\":0,\"ptCntNmvl\":8,\"wholPtCntDnmvl\":0,\"bycntrWholPtCntDnmvl\":0},{\"centerNm\":\"국립암센터\",\"critYr\":2019,\"ptAge\":22,\"ptSexCd\":\"F\",\"statsTrgtNm\":\"\",\"ncsNmvl\":0,\"wholNcsDnmvl\":0,\"ptCntNmvl\":3,\"wholPtCntDnmvl\":0,\"bycntrWholPtCntDnmvl\":0},{\"centerNm\":\"국립암센터\",\"critYr\":2008,\"ptAge\":65,\"ptSexCd\":\"F\",\"statsTrgtNm\":\"\",\"ncsNmvl\":0,\"wholNcsDnmvl\":0,\"ptCntNmvl\":8,\"wholPtCntDnmvl\":0,\"bycntrWholPtCntDnmvl\":0},{\"centerNm\":\"국립암센터\",\"critYr\":2019,\"ptAge\":43,\"ptSexCd\":\"M\",\"statsTrgtNm\":\"\",\"ncsNmvl\":0,\"wholNcsDnmvl\":0,\"ptCntNmvl\":6,\"wholPtCntDnmvl\":0,\"bycntrWholPtCntDnmvl\":0},{\"centerNm\":\"국립암센터\",\"critYr\":2019,\"ptAge\":43,\"ptSexCd\":\"F\",\"statsTrgtNm\":\"\",\"ncsNmvl\":0,\"wholNcsDnmvl\":0,\"ptCntNmvl\":10,\"wholPtCntDnmvl\":0,\"bycntrWholPtCntDnmvl\":0},{\"centerNm\":\"국립암센터\",\"critYr\":2013,\"ptAge\":35,\"ptSexCd\":\"F\",\"statsTrgtNm\":\"\",\"ncsNmvl\":0,\"wholNcsDnmvl\":0,\"ptCntNmvl\":14,\"wholPtCntDnmvl\":0,\"bycntrWholPtCntDnmvl\":0},{\"centerNm\":\"국립암센터\",\"critYr\":2009,\"ptAge\":66,\"ptSexCd\":\"F\",\"statsTrgtNm\":\"\",\"ncsNmvl\":0,\"wholNcsDnmvl\":0,\"ptCntNmvl\":4,\"wholPtCntDnmvl\":0,\"bycntrWholPtCntDnmvl\":0},{\"centerNm\":\"국립암센터\",\"critYr\":2015,\"ptAge\":60,\"ptSexCd\":\"M\",\"statsTrgtNm\":\"\",\"ncsNmvl\":0,\"wholNcsDnmvl\":0,\"ptCntNmvl\":4,\"wholPtCntDnmvl\":0,\"bycntrWholPtCntDnmvl\":0},{\"centerNm\":\"국립암센터\",\"critYr\":2009,\"ptAge\":63,\"ptSexCd\":\"F\",\"statsTrgtNm\":\"\",\"ncsNmvl\":0,\"wholNcsDnmvl\":0,\"ptCntNmvl\":6,\"wholPtCntDnmvl\":0,\"bycntrWholPtCntDnmvl\":0},{\"centerNm\":\"국립암센터\",\"critYr\":2017,\"ptAge\":45,\"ptSexCd\":\"F\",\"statsTrgtNm\":\"\",\"ncsNmvl\":0,\"wholNcsDnmvl\":0,\"ptCntNmvl\":10,\"wholPtCntDnmvl\":0,\"bycntrWholPtCntDnmvl\":0},{\"centerNm\":\"국립암센터\",\"critYr\":2019,\"ptAge\":63,\"ptSexCd\":\"F\",\"statsTrgtNm\":\"\",\"ncsNmvl\":0,\"wholNcsDnmvl\":0,\"ptCntNmvl\":5,\"wholPtCntDnmvl\":0,\"bycntrWholPtCntDnmvl\":0},{\"centerNm\":\"국립암센터\",\"critYr\":2020,\"ptAge\":54,\"ptSexCd\":\"M\",\"statsTrgtNm\":\"\",\"ncsNmvl\":0,\"wholNcsDnmvl\":0,\"ptCntNmvl\":7,\"wholPtCntDnmvl\":0,\"bycntrWholPtCntDnmvl\":0},{\"centerNm\":\"국립암센터\",\"critYr\":2019,\"ptAge\":46,\"ptSexCd\":\"M\",\"statsTrgtNm\":\"\",\"ncsNmvl\":0,\"wholNcsDnmvl\":0,\"ptCntNmvl\":5,\"wholPtCntDnmvl\":0,\"bycntrWholPtCntDnmvl\":0},{\"centerNm\":\"국립암센터\",\"critYr\":2010,\"ptAge\":43,\"ptSexCd\":\"M\",\"statsTrgtNm\":\"\",\"ncsNmvl\":0,\"wholNcsDnmvl\":0,\"ptCntNmvl\":8,\"wholPtCntDnmvl\":0,\"bycntrWholPtCntDnmvl\":0},{\"centerNm\":\"국립암센터\",\"critYr\":2018,\"ptAge\":37,\"ptSexCd\":\"F\",\"statsTrgtNm\":\"\",\"ncsNmvl\":0,\"wholNcsDnmvl\":0,\"ptCntNmvl\":11,\"wholPtCntDnmvl\":0,\"bycntrWholPtCntDnmvl\":0},{\"centerNm\":\"국립암센터\",\"critYr\":2012,\"ptAge\":70,\"ptSexCd\":\"F\",\"statsTrgtNm\":\"\",\"ncsNmvl\":0,\"wholNcsDnmvl\":0,\"ptCntNmvl\":7,\"wholPtCntDnmvl\":0,\"bycntrWholPtCntDnmvl\":0},{\"centerNm\":\"국립암센터\",\"critYr\":2013,\"ptAge\":69,\"ptSexCd\":\"F\",\"statsTrgtNm\":\"\",\"ncsNmvl\":0,\"wholNcsDnmvl\":0,\"ptCntNmvl\":3,\"wholPtCntDnmvl\":0,\"bycntrWholPtCntDnmvl\":0},{\"centerNm\":\"국립암센터\",\"critYr\":2013,\"ptAge\":37,\"ptSexCd\":\"M\",\"statsTrgtNm\":\"\",\"ncsNmvl\":0,\"wholNcsDnmvl\":0,\"ptCntNmvl\":4,\"wholPtCntDnmvl\":0,\"bycntrWholPtCntDnmvl\":0},{\"centerNm\":\"국립암센터\",\"critYr\":2010,\"ptAge\":62,\"ptSexCd\":\"F\",\"statsTrgtNm\":\"\",\"ncsNmvl\":0,\"wholNcsDnmvl\":0,\"ptCntNmvl\":9,\"wholPtCntDnmvl\":0,\"bycntrWholPtCntDnmvl\":0},{\"centerNm\":\"국립암센터\",\"critYr\":2016,\"ptAge\":41,\"ptSexCd\":\"M\",\"statsTrgtNm\":\"\",\"ncsNmvl\":0,\"wholNcsDnmvl\":0,\"ptCntNmvl\":2,\"wholPtCntDnmvl\":0,\"bycntrWholPtCntDnmvl\":0},{\"centerNm\":\"국립암센터\",\"critYr\":2014,\"ptAge\":58,\"ptSexCd\":\"M\",\"statsTrgtNm\":\"\",\"ncsNmvl\":0,\"wholNcsDnmvl\":0,\"ptCntNmvl\":2,\"wholPtCntDnmvl\":0,\"bycntrWholPtCntDnmvl\":0},{\"centerNm\":\"국립암센터\",\"critYr\":2015,\"ptAge\":27,\"ptSexCd\":\"M\",\"statsTrgtNm\":\"\",\"ncsNmvl\":0,\"wholNcsDnmvl\":0,\"ptCntNmvl\":3,\"wholPtCntDnmvl\":0,\"bycntrWholPtCntDnmvl\":0},{\"centerNm\":\"국립암센터\",\"critYr\":2016,\"ptAge\":50,\"ptSexCd\":\"M\",\"statsTrgtNm\":\"\",\"ncsNmvl\":0,\"wholNcsDnmvl\":0,\"ptCntNmvl\":4,\"wholPtCntDnmvl\":0,\"bycntrWholPtCntDnmvl\":0},{\"centerNm\":\"국립암센터\",\"critYr\":2012,\"ptAge\":58,\"ptSexCd\":\"M\",\"statsTrgtNm\":\"\",\"ncsNmvl\":0,\"wholNcsDnmvl\":0,\"ptCntNmvl\":3,\"wholPtCntDnmvl\":0,\"bycntrWholPtCntDnmvl\":0},{\"centerNm\":\"국립암센터\",\"critYr\":2012,\"ptAge\":81,\"ptSexCd\":\"M\",\"statsTrgtNm\":\"\",\"ncsNmvl\":0,\"wholNcsDnmvl\":0,\"ptCntNmvl\":1,\"wholPtCntDnmvl\":0,\"bycntrWholPtCntDnmvl\":0},{\"centerNm\":\"국립암센터\",\"critYr\":2019,\"ptAge\":56,\"ptSexCd\":\"M\",\"statsTrgtNm\":\"\",\"ncsNmvl\":0,\"wholNcsDnmvl\":0,\"ptCntNmvl\":6,\"wholPtCntDnmvl\":0,\"bycntrWholPtCntDnmvl\":0},{\"centerNm\":\"국립암센터\",\"critYr\":2019,\"ptAge\":86,\"ptSexCd\":\"M\",\"statsTrgtNm\":\"\",\"ncsNmvl\":0,\"wholNcsDnmvl\":0,\"ptCntNmvl\":1,\"wholPtCntDnmvl\":0,\"bycntrWholPtCntDnmvl\":0},{\"centerNm\":\"국립암센터\",\"critYr\":2011,\"ptAge\":24,\"ptSexCd\":\"F\",\"statsTrgtNm\":\"\",\"ncsNmvl\":0,\"wholNcsDnmvl\":0,\"ptCntNmvl\":5,\"wholPtCntDnmvl\":0,\"bycntrWholPtCntDnmvl\":0},{\"centerNm\":\"국립암센터\",\"critYr\":2010,\"ptAge\":72,\"ptSexCd\":\"F\",\"statsTrgtNm\":\"\",\"ncsNmvl\":0,\"wholNcsDnmvl\":0,\"ptCntNmvl\":5,\"wholPtCntDnmvl\":0,\"bycntrWholPtCntDnmvl\":0},{\"centerNm\":\"국립암센터\",\"critYr\":2013,\"ptAge\":17,\"ptSexCd\":\"F\",\"statsTrgtNm\":\"\",\"ncsNmvl\":0,\"wholNcsDnmvl\":0,\"ptCntNmvl\":1,\"wholPtCntDnmvl\":0,\"bycntrWholPtCntDnmvl\":0},{\"centerNm\":\"국립암센터\",\"critYr\":2008,\"ptAge\":33,\"ptSexCd\":\"M\",\"statsTrgtNm\":\"\",\"ncsNmvl\":0,\"wholNcsDnmvl\":0,\"ptCntNmvl\":3,\"wholPtCntDnmvl\":0,\"bycntrWholPtCntDnmvl\":0},{\"centerNm\":\"국립암센터\",\"critYr\":2019,\"ptAge\":76,\"ptSexCd\":\"M\",\"statsTrgtNm\":\"\",\"ncsNmvl\":0,\"wholNcsDnmvl\":0,\"ptCntNmvl\":1,\"wholPtCntDnmvl\":0,\"bycntrWholPtCntDnmvl\":0},{\"centerNm\":\"국립암센터\",\"critYr\":2013,\"ptAge\":38,\"ptSexCd\":\"M\",\"statsTrgtNm\":\"\",\"ncsNmvl\":0,\"wholNcsDnmvl\":0,\"ptCntNmvl\":3,\"wholPtCntDnmvl\":0,\"bycntrWholPtCntDnmvl\":0},{\"centerNm\":\"국립암센터\",\"critYr\":2018,\"ptAge\":83,\"ptSexCd\":\"M\",\"statsTrgtNm\":\"\",\"ncsNmvl\":0,\"wholNcsDnmvl\":0,\"ptCntNmvl\":1,\"wholPtCntDnmvl\":0,\"bycntrWholPtCntDnmvl\":0},{\"centerNm\":\"국립암센터\",\"critYr\":2015,\"ptAge\":71,\"ptSexCd\":\"F\",\"statsTrgtNm\":\"\",\"ncsNmvl\":0,\"wholNcsDnmvl\":0,\"ptCntNmvl\":2,\"wholPtCntDnmvl\":0,\"bycntrWholPtCntDnmvl\":0},{\"centerNm\":\"국립암센터\",\"critYr\":2018,\"ptAge\":44,\"ptSexCd\":\"M\",\"statsTrgtNm\":\"\",\"ncsNmvl\":0,\"wholNcsDnmvl\":0,\"ptCntNmvl\":4,\"wholPtCntDnmvl\":0,\"bycntrWholPtCntDnmvl\":0},{\"centerNm\":\"국립암센터\",\"critYr\":2016,\"ptAge\":76,\"ptSexCd\":\"M\",\"statsTrgtNm\":\"\",\"ncsNmvl\":0,\"wholNcsDnmvl\":0,\"ptCntNmvl\":1,\"wholPtCntDnmvl\":0,\"bycntrWholPtCntDnmvl\":0}]}}}'"
            ]
          },
          "metadata": {
            "tags": []
          },
          "execution_count": 78
        }
      ]
    },
    {
      "cell_type": "code",
      "metadata": {
        "id": "0w2oNLlXJzgp"
      },
      "source": [
        "data2 = data.json()"
      ],
      "execution_count": 79,
      "outputs": []
    },
    {
      "cell_type": "code",
      "metadata": {
        "colab": {
          "base_uri": "https://localhost:8080/"
        },
        "id": "sEPkHNx8KgJ_",
        "outputId": "d5bc7122-a6d0-4180-f864-144df3d4c4dc"
      },
      "source": [
        "for item in data2['response']['items']['item']:\n",
        "  print(item)"
      ],
      "execution_count": 80,
      "outputs": [
        {
          "output_type": "stream",
          "text": [
            "{'centerNm': '국립암센터', 'critYr': 2019, 'ptAge': 75, 'ptSexCd': 'F', 'statsTrgtNm': '', 'ncsNmvl': 0, 'wholNcsDnmvl': 0, 'ptCntNmvl': 4, 'wholPtCntDnmvl': 0, 'bycntrWholPtCntDnmvl': 0}\n",
            "{'centerNm': '국립암센터', 'critYr': 2015, 'ptAge': 45, 'ptSexCd': 'M', 'statsTrgtNm': '', 'ncsNmvl': 0, 'wholNcsDnmvl': 0, 'ptCntNmvl': 3, 'wholPtCntDnmvl': 0, 'bycntrWholPtCntDnmvl': 0}\n",
            "{'centerNm': '국립암센터', 'critYr': 2010, 'ptAge': 58, 'ptSexCd': 'F', 'statsTrgtNm': '', 'ncsNmvl': 0, 'wholNcsDnmvl': 0, 'ptCntNmvl': 17, 'wholPtCntDnmvl': 0, 'bycntrWholPtCntDnmvl': 0}\n",
            "{'centerNm': '국립암센터', 'critYr': 2019, 'ptAge': 61, 'ptSexCd': 'M', 'statsTrgtNm': '', 'ncsNmvl': 0, 'wholNcsDnmvl': 0, 'ptCntNmvl': 2, 'wholPtCntDnmvl': 0, 'bycntrWholPtCntDnmvl': 0}\n",
            "{'centerNm': '국립암센터', 'critYr': 2016, 'ptAge': 58, 'ptSexCd': 'F', 'statsTrgtNm': '', 'ncsNmvl': 0, 'wholNcsDnmvl': 0, 'ptCntNmvl': 9, 'wholPtCntDnmvl': 0, 'bycntrWholPtCntDnmvl': 0}\n",
            "{'centerNm': '국립암센터', 'critYr': 2013, 'ptAge': 42, 'ptSexCd': 'F', 'statsTrgtNm': '', 'ncsNmvl': 0, 'wholNcsDnmvl': 0, 'ptCntNmvl': 25, 'wholPtCntDnmvl': 0, 'bycntrWholPtCntDnmvl': 0}\n",
            "{'centerNm': '국립암센터', 'critYr': 2015, 'ptAge': 36, 'ptSexCd': 'M', 'statsTrgtNm': '', 'ncsNmvl': 0, 'wholNcsDnmvl': 0, 'ptCntNmvl': 1, 'wholPtCntDnmvl': 0, 'bycntrWholPtCntDnmvl': 0}\n",
            "{'centerNm': '국립암센터', 'critYr': 2019, 'ptAge': 50, 'ptSexCd': 'F', 'statsTrgtNm': '', 'ncsNmvl': 0, 'wholNcsDnmvl': 0, 'ptCntNmvl': 23, 'wholPtCntDnmvl': 0, 'bycntrWholPtCntDnmvl': 0}\n",
            "{'centerNm': '국립암센터', 'critYr': 2009, 'ptAge': 41, 'ptSexCd': 'F', 'statsTrgtNm': '', 'ncsNmvl': 0, 'wholNcsDnmvl': 0, 'ptCntNmvl': 20, 'wholPtCntDnmvl': 0, 'bycntrWholPtCntDnmvl': 0}\n",
            "{'centerNm': '국립암센터', 'critYr': 2015, 'ptAge': 35, 'ptSexCd': 'F', 'statsTrgtNm': '', 'ncsNmvl': 0, 'wholNcsDnmvl': 0, 'ptCntNmvl': 15, 'wholPtCntDnmvl': 0, 'bycntrWholPtCntDnmvl': 0}\n",
            "{'centerNm': '국립암센터', 'critYr': 2019, 'ptAge': 51, 'ptSexCd': 'M', 'statsTrgtNm': '', 'ncsNmvl': 0, 'wholNcsDnmvl': 0, 'ptCntNmvl': 5, 'wholPtCntDnmvl': 0, 'bycntrWholPtCntDnmvl': 0}\n",
            "{'centerNm': '국립암센터', 'critYr': 2017, 'ptAge': 47, 'ptSexCd': 'F', 'statsTrgtNm': '', 'ncsNmvl': 0, 'wholNcsDnmvl': 0, 'ptCntNmvl': 10, 'wholPtCntDnmvl': 0, 'bycntrWholPtCntDnmvl': 0}\n",
            "{'centerNm': '국립암센터', 'critYr': 2013, 'ptAge': 32, 'ptSexCd': 'M', 'statsTrgtNm': '', 'ncsNmvl': 0, 'wholNcsDnmvl': 0, 'ptCntNmvl': 1, 'wholPtCntDnmvl': 0, 'bycntrWholPtCntDnmvl': 0}\n",
            "{'centerNm': '국립암센터', 'critYr': 2014, 'ptAge': 38, 'ptSexCd': 'M', 'statsTrgtNm': '', 'ncsNmvl': 0, 'wholNcsDnmvl': 0, 'ptCntNmvl': 3, 'wholPtCntDnmvl': 0, 'bycntrWholPtCntDnmvl': 0}\n",
            "{'centerNm': '국립암센터', 'critYr': 2013, 'ptAge': 52, 'ptSexCd': 'F', 'statsTrgtNm': '', 'ncsNmvl': 0, 'wholNcsDnmvl': 0, 'ptCntNmvl': 38, 'wholPtCntDnmvl': 0, 'bycntrWholPtCntDnmvl': 0}\n",
            "{'centerNm': '국립암센터', 'critYr': 2019, 'ptAge': 31, 'ptSexCd': 'M', 'statsTrgtNm': '', 'ncsNmvl': 0, 'wholNcsDnmvl': 0, 'ptCntNmvl': 3, 'wholPtCntDnmvl': 0, 'bycntrWholPtCntDnmvl': 0}\n",
            "{'centerNm': '국립암센터', 'critYr': 2008, 'ptAge': 53, 'ptSexCd': 'M', 'statsTrgtNm': '', 'ncsNmvl': 0, 'wholNcsDnmvl': 0, 'ptCntNmvl': 6, 'wholPtCntDnmvl': 0, 'bycntrWholPtCntDnmvl': 0}\n",
            "{'centerNm': '국립암센터', 'critYr': 2016, 'ptAge': 47, 'ptSexCd': 'F', 'statsTrgtNm': '', 'ncsNmvl': 0, 'wholNcsDnmvl': 0, 'ptCntNmvl': 16, 'wholPtCntDnmvl': 0, 'bycntrWholPtCntDnmvl': 0}\n",
            "{'centerNm': '국립암센터', 'critYr': 2010, 'ptAge': 70, 'ptSexCd': 'M', 'statsTrgtNm': '', 'ncsNmvl': 0, 'wholNcsDnmvl': 0, 'ptCntNmvl': 2, 'wholPtCntDnmvl': 0, 'bycntrWholPtCntDnmvl': 0}\n",
            "{'centerNm': '국립암센터', 'critYr': 2018, 'ptAge': 65, 'ptSexCd': 'M', 'statsTrgtNm': '', 'ncsNmvl': 0, 'wholNcsDnmvl': 0, 'ptCntNmvl': 3, 'wholPtCntDnmvl': 0, 'bycntrWholPtCntDnmvl': 0}\n",
            "{'centerNm': '국립암센터', 'critYr': 2014, 'ptAge': 33, 'ptSexCd': 'F', 'statsTrgtNm': '', 'ncsNmvl': 0, 'wholNcsDnmvl': 0, 'ptCntNmvl': 13, 'wholPtCntDnmvl': 0, 'bycntrWholPtCntDnmvl': 0}\n",
            "{'centerNm': '국립암센터', 'critYr': 2009, 'ptAge': 60, 'ptSexCd': 'M', 'statsTrgtNm': '', 'ncsNmvl': 0, 'wholNcsDnmvl': 0, 'ptCntNmvl': 2, 'wholPtCntDnmvl': 0, 'bycntrWholPtCntDnmvl': 0}\n",
            "{'centerNm': '국립암센터', 'critYr': 2012, 'ptAge': 37, 'ptSexCd': 'M', 'statsTrgtNm': '', 'ncsNmvl': 0, 'wholNcsDnmvl': 0, 'ptCntNmvl': 2, 'wholPtCntDnmvl': 0, 'bycntrWholPtCntDnmvl': 0}\n",
            "{'centerNm': '국립암센터', 'critYr': 2012, 'ptAge': 63, 'ptSexCd': 'F', 'statsTrgtNm': '', 'ncsNmvl': 0, 'wholNcsDnmvl': 0, 'ptCntNmvl': 10, 'wholPtCntDnmvl': 0, 'bycntrWholPtCntDnmvl': 0}\n",
            "{'centerNm': '국립암센터', 'critYr': 2008, 'ptAge': 69, 'ptSexCd': 'M', 'statsTrgtNm': '', 'ncsNmvl': 0, 'wholNcsDnmvl': 0, 'ptCntNmvl': 2, 'wholPtCntDnmvl': 0, 'bycntrWholPtCntDnmvl': 0}\n",
            "{'centerNm': '국립암센터', 'critYr': 2019, 'ptAge': 64, 'ptSexCd': 'M', 'statsTrgtNm': '', 'ncsNmvl': 0, 'wholNcsDnmvl': 0, 'ptCntNmvl': 2, 'wholPtCntDnmvl': 0, 'bycntrWholPtCntDnmvl': 0}\n",
            "{'centerNm': '국립암센터', 'critYr': 2015, 'ptAge': 61, 'ptSexCd': 'M', 'statsTrgtNm': '', 'ncsNmvl': 0, 'wholNcsDnmvl': 0, 'ptCntNmvl': 1, 'wholPtCntDnmvl': 0, 'bycntrWholPtCntDnmvl': 0}\n",
            "{'centerNm': '국립암센터', 'critYr': 2008, 'ptAge': 50, 'ptSexCd': 'F', 'statsTrgtNm': '', 'ncsNmvl': 0, 'wholNcsDnmvl': 0, 'ptCntNmvl': 16, 'wholPtCntDnmvl': 0, 'bycntrWholPtCntDnmvl': 0}\n",
            "{'centerNm': '국립암센터', 'critYr': 2014, 'ptAge': 28, 'ptSexCd': 'F', 'statsTrgtNm': '', 'ncsNmvl': 0, 'wholNcsDnmvl': 0, 'ptCntNmvl': 4, 'wholPtCntDnmvl': 0, 'bycntrWholPtCntDnmvl': 0}\n",
            "{'centerNm': '국립암센터', 'critYr': 2010, 'ptAge': 71, 'ptSexCd': 'F', 'statsTrgtNm': '', 'ncsNmvl': 0, 'wholNcsDnmvl': 0, 'ptCntNmvl': 2, 'wholPtCntDnmvl': 0, 'bycntrWholPtCntDnmvl': 0}\n",
            "{'centerNm': '국립암센터', 'critYr': 2008, 'ptAge': 35, 'ptSexCd': 'M', 'statsTrgtNm': '', 'ncsNmvl': 0, 'wholNcsDnmvl': 0, 'ptCntNmvl': 4, 'wholPtCntDnmvl': 0, 'bycntrWholPtCntDnmvl': 0}\n",
            "{'centerNm': '국립암센터', 'critYr': 2020, 'ptAge': 49, 'ptSexCd': 'F', 'statsTrgtNm': '', 'ncsNmvl': 0, 'wholNcsDnmvl': 0, 'ptCntNmvl': 8, 'wholPtCntDnmvl': 0, 'bycntrWholPtCntDnmvl': 0}\n",
            "{'centerNm': '국립암센터', 'critYr': 2020, 'ptAge': 64, 'ptSexCd': 'M', 'statsTrgtNm': '', 'ncsNmvl': 0, 'wholNcsDnmvl': 0, 'ptCntNmvl': 2, 'wholPtCntDnmvl': 0, 'bycntrWholPtCntDnmvl': 0}\n",
            "{'centerNm': '국립암센터', 'critYr': 2010, 'ptAge': 82, 'ptSexCd': 'F', 'statsTrgtNm': '', 'ncsNmvl': 0, 'wholNcsDnmvl': 0, 'ptCntNmvl': 2, 'wholPtCntDnmvl': 0, 'bycntrWholPtCntDnmvl': 0}\n",
            "{'centerNm': '국립암센터', 'critYr': 2015, 'ptAge': 72, 'ptSexCd': 'M', 'statsTrgtNm': '', 'ncsNmvl': 0, 'wholNcsDnmvl': 0, 'ptCntNmvl': 2, 'wholPtCntDnmvl': 0, 'bycntrWholPtCntDnmvl': 0}\n",
            "{'centerNm': '국립암센터', 'critYr': 2008, 'ptAge': 46, 'ptSexCd': 'M', 'statsTrgtNm': '', 'ncsNmvl': 0, 'wholNcsDnmvl': 0, 'ptCntNmvl': 5, 'wholPtCntDnmvl': 0, 'bycntrWholPtCntDnmvl': 0}\n",
            "{'centerNm': '국립암센터', 'critYr': 2011, 'ptAge': 27, 'ptSexCd': 'F', 'statsTrgtNm': '', 'ncsNmvl': 0, 'wholNcsDnmvl': 0, 'ptCntNmvl': 9, 'wholPtCntDnmvl': 0, 'bycntrWholPtCntDnmvl': 0}\n",
            "{'centerNm': '국립암센터', 'critYr': 2011, 'ptAge': 74, 'ptSexCd': 'F', 'statsTrgtNm': '', 'ncsNmvl': 0, 'wholNcsDnmvl': 0, 'ptCntNmvl': 2, 'wholPtCntDnmvl': 0, 'bycntrWholPtCntDnmvl': 0}\n",
            "{'centerNm': '국립암센터', 'critYr': 2009, 'ptAge': 61, 'ptSexCd': 'M', 'statsTrgtNm': '', 'ncsNmvl': 0, 'wholNcsDnmvl': 0, 'ptCntNmvl': 1, 'wholPtCntDnmvl': 0, 'bycntrWholPtCntDnmvl': 0}\n",
            "{'centerNm': '국립암센터', 'critYr': 2016, 'ptAge': 35, 'ptSexCd': 'F', 'statsTrgtNm': '', 'ncsNmvl': 0, 'wholNcsDnmvl': 0, 'ptCntNmvl': 10, 'wholPtCntDnmvl': 0, 'bycntrWholPtCntDnmvl': 0}\n",
            "{'centerNm': '국립암센터', 'critYr': 2008, 'ptAge': 64, 'ptSexCd': 'F', 'statsTrgtNm': '', 'ncsNmvl': 0, 'wholNcsDnmvl': 0, 'ptCntNmvl': 5, 'wholPtCntDnmvl': 0, 'bycntrWholPtCntDnmvl': 0}\n",
            "{'centerNm': '국립암센터', 'critYr': 2017, 'ptAge': 65, 'ptSexCd': 'M', 'statsTrgtNm': '', 'ncsNmvl': 0, 'wholNcsDnmvl': 0, 'ptCntNmvl': 1, 'wholPtCntDnmvl': 0, 'bycntrWholPtCntDnmvl': 0}\n",
            "{'centerNm': '국립암센터', 'critYr': 2012, 'ptAge': 79, 'ptSexCd': 'F', 'statsTrgtNm': '', 'ncsNmvl': 0, 'wholNcsDnmvl': 0, 'ptCntNmvl': 1, 'wholPtCntDnmvl': 0, 'bycntrWholPtCntDnmvl': 0}\n",
            "{'centerNm': '국립암센터', 'critYr': 2014, 'ptAge': 78, 'ptSexCd': 'F', 'statsTrgtNm': '', 'ncsNmvl': 0, 'wholNcsDnmvl': 0, 'ptCntNmvl': 3, 'wholPtCntDnmvl': 0, 'bycntrWholPtCntDnmvl': 0}\n",
            "{'centerNm': '국립암센터', 'critYr': 2011, 'ptAge': 21, 'ptSexCd': 'F', 'statsTrgtNm': '', 'ncsNmvl': 0, 'wholNcsDnmvl': 0, 'ptCntNmvl': 3, 'wholPtCntDnmvl': 0, 'bycntrWholPtCntDnmvl': 0}\n",
            "{'centerNm': '국립암센터', 'critYr': 2015, 'ptAge': 34, 'ptSexCd': 'M', 'statsTrgtNm': '', 'ncsNmvl': 0, 'wholNcsDnmvl': 0, 'ptCntNmvl': 1, 'wholPtCntDnmvl': 0, 'bycntrWholPtCntDnmvl': 0}\n",
            "{'centerNm': '국립암센터', 'critYr': 2019, 'ptAge': 68, 'ptSexCd': 'M', 'statsTrgtNm': '', 'ncsNmvl': 0, 'wholNcsDnmvl': 0, 'ptCntNmvl': 1, 'wholPtCntDnmvl': 0, 'bycntrWholPtCntDnmvl': 0}\n",
            "{'centerNm': '국립암센터', 'critYr': 2016, 'ptAge': 81, 'ptSexCd': 'M', 'statsTrgtNm': '', 'ncsNmvl': 0, 'wholNcsDnmvl': 0, 'ptCntNmvl': 1, 'wholPtCntDnmvl': 0, 'bycntrWholPtCntDnmvl': 0}\n",
            "{'centerNm': '국립암센터', 'critYr': 2016, 'ptAge': 57, 'ptSexCd': 'M', 'statsTrgtNm': '', 'ncsNmvl': 0, 'wholNcsDnmvl': 0, 'ptCntNmvl': 1, 'wholPtCntDnmvl': 0, 'bycntrWholPtCntDnmvl': 0}\n",
            "{'centerNm': '국립암센터', 'critYr': 2013, 'ptAge': 71, 'ptSexCd': 'M', 'statsTrgtNm': '', 'ncsNmvl': 0, 'wholNcsDnmvl': 0, 'ptCntNmvl': 1, 'wholPtCntDnmvl': 0, 'bycntrWholPtCntDnmvl': 0}\n",
            "{'centerNm': '국립암센터', 'critYr': 2016, 'ptAge': 22, 'ptSexCd': 'F', 'statsTrgtNm': '', 'ncsNmvl': 0, 'wholNcsDnmvl': 0, 'ptCntNmvl': 1, 'wholPtCntDnmvl': 0, 'bycntrWholPtCntDnmvl': 0}\n",
            "{'centerNm': '국립암센터', 'critYr': 2018, 'ptAge': 21, 'ptSexCd': 'M', 'statsTrgtNm': '', 'ncsNmvl': 0, 'wholNcsDnmvl': 0, 'ptCntNmvl': 1, 'wholPtCntDnmvl': 0, 'bycntrWholPtCntDnmvl': 0}\n",
            "{'centerNm': '국립암센터', 'critYr': 2013, 'ptAge': 53, 'ptSexCd': 'F', 'statsTrgtNm': '', 'ncsNmvl': 0, 'wholNcsDnmvl': 0, 'ptCntNmvl': 32, 'wholPtCntDnmvl': 0, 'bycntrWholPtCntDnmvl': 0}\n",
            "{'centerNm': '국립암센터', 'critYr': 2013, 'ptAge': 46, 'ptSexCd': 'F', 'statsTrgtNm': '', 'ncsNmvl': 0, 'wholNcsDnmvl': 0, 'ptCntNmvl': 34, 'wholPtCntDnmvl': 0, 'bycntrWholPtCntDnmvl': 0}\n",
            "{'centerNm': '국립암센터', 'critYr': 2010, 'ptAge': 42, 'ptSexCd': 'F', 'statsTrgtNm': '', 'ncsNmvl': 0, 'wholNcsDnmvl': 0, 'ptCntNmvl': 26, 'wholPtCntDnmvl': 0, 'bycntrWholPtCntDnmvl': 0}\n",
            "{'centerNm': '국립암센터', 'critYr': 2013, 'ptAge': 40, 'ptSexCd': 'M', 'statsTrgtNm': '', 'ncsNmvl': 0, 'wholNcsDnmvl': 0, 'ptCntNmvl': 7, 'wholPtCntDnmvl': 0, 'bycntrWholPtCntDnmvl': 0}\n",
            "{'centerNm': '국립암센터', 'critYr': 2008, 'ptAge': 34, 'ptSexCd': 'M', 'statsTrgtNm': '', 'ncsNmvl': 0, 'wholNcsDnmvl': 0, 'ptCntNmvl': 1, 'wholPtCntDnmvl': 0, 'bycntrWholPtCntDnmvl': 0}\n",
            "{'centerNm': '국립암센터', 'critYr': 2014, 'ptAge': 57, 'ptSexCd': 'M', 'statsTrgtNm': '', 'ncsNmvl': 0, 'wholNcsDnmvl': 0, 'ptCntNmvl': 8, 'wholPtCntDnmvl': 0, 'bycntrWholPtCntDnmvl': 0}\n",
            "{'centerNm': '국립암센터', 'critYr': 2009, 'ptAge': 50, 'ptSexCd': 'F', 'statsTrgtNm': '', 'ncsNmvl': 0, 'wholNcsDnmvl': 0, 'ptCntNmvl': 30, 'wholPtCntDnmvl': 0, 'bycntrWholPtCntDnmvl': 0}\n",
            "{'centerNm': '국립암센터', 'critYr': 2008, 'ptAge': 52, 'ptSexCd': 'F', 'statsTrgtNm': '', 'ncsNmvl': 0, 'wholNcsDnmvl': 0, 'ptCntNmvl': 27, 'wholPtCntDnmvl': 0, 'bycntrWholPtCntDnmvl': 0}\n",
            "{'centerNm': '국립암센터', 'critYr': 2013, 'ptAge': 41, 'ptSexCd': 'F', 'statsTrgtNm': '', 'ncsNmvl': 0, 'wholNcsDnmvl': 0, 'ptCntNmvl': 9, 'wholPtCntDnmvl': 0, 'bycntrWholPtCntDnmvl': 0}\n",
            "{'centerNm': '국립암센터', 'critYr': 2020, 'ptAge': 52, 'ptSexCd': 'F', 'statsTrgtNm': '', 'ncsNmvl': 0, 'wholNcsDnmvl': 0, 'ptCntNmvl': 10, 'wholPtCntDnmvl': 0, 'bycntrWholPtCntDnmvl': 0}\n",
            "{'centerNm': '국립암센터', 'critYr': 2018, 'ptAge': 28, 'ptSexCd': 'F', 'statsTrgtNm': '', 'ncsNmvl': 0, 'wholNcsDnmvl': 0, 'ptCntNmvl': 5, 'wholPtCntDnmvl': 0, 'bycntrWholPtCntDnmvl': 0}\n",
            "{'centerNm': '국립암센터', 'critYr': 2012, 'ptAge': 57, 'ptSexCd': 'M', 'statsTrgtNm': '', 'ncsNmvl': 0, 'wholNcsDnmvl': 0, 'ptCntNmvl': 8, 'wholPtCntDnmvl': 0, 'bycntrWholPtCntDnmvl': 0}\n",
            "{'centerNm': '국립암센터', 'critYr': 2019, 'ptAge': 22, 'ptSexCd': 'F', 'statsTrgtNm': '', 'ncsNmvl': 0, 'wholNcsDnmvl': 0, 'ptCntNmvl': 3, 'wholPtCntDnmvl': 0, 'bycntrWholPtCntDnmvl': 0}\n",
            "{'centerNm': '국립암센터', 'critYr': 2008, 'ptAge': 65, 'ptSexCd': 'F', 'statsTrgtNm': '', 'ncsNmvl': 0, 'wholNcsDnmvl': 0, 'ptCntNmvl': 8, 'wholPtCntDnmvl': 0, 'bycntrWholPtCntDnmvl': 0}\n",
            "{'centerNm': '국립암센터', 'critYr': 2019, 'ptAge': 43, 'ptSexCd': 'M', 'statsTrgtNm': '', 'ncsNmvl': 0, 'wholNcsDnmvl': 0, 'ptCntNmvl': 6, 'wholPtCntDnmvl': 0, 'bycntrWholPtCntDnmvl': 0}\n",
            "{'centerNm': '국립암센터', 'critYr': 2019, 'ptAge': 43, 'ptSexCd': 'F', 'statsTrgtNm': '', 'ncsNmvl': 0, 'wholNcsDnmvl': 0, 'ptCntNmvl': 10, 'wholPtCntDnmvl': 0, 'bycntrWholPtCntDnmvl': 0}\n",
            "{'centerNm': '국립암센터', 'critYr': 2013, 'ptAge': 35, 'ptSexCd': 'F', 'statsTrgtNm': '', 'ncsNmvl': 0, 'wholNcsDnmvl': 0, 'ptCntNmvl': 14, 'wholPtCntDnmvl': 0, 'bycntrWholPtCntDnmvl': 0}\n",
            "{'centerNm': '국립암센터', 'critYr': 2009, 'ptAge': 66, 'ptSexCd': 'F', 'statsTrgtNm': '', 'ncsNmvl': 0, 'wholNcsDnmvl': 0, 'ptCntNmvl': 4, 'wholPtCntDnmvl': 0, 'bycntrWholPtCntDnmvl': 0}\n",
            "{'centerNm': '국립암센터', 'critYr': 2015, 'ptAge': 60, 'ptSexCd': 'M', 'statsTrgtNm': '', 'ncsNmvl': 0, 'wholNcsDnmvl': 0, 'ptCntNmvl': 4, 'wholPtCntDnmvl': 0, 'bycntrWholPtCntDnmvl': 0}\n",
            "{'centerNm': '국립암센터', 'critYr': 2009, 'ptAge': 63, 'ptSexCd': 'F', 'statsTrgtNm': '', 'ncsNmvl': 0, 'wholNcsDnmvl': 0, 'ptCntNmvl': 6, 'wholPtCntDnmvl': 0, 'bycntrWholPtCntDnmvl': 0}\n",
            "{'centerNm': '국립암센터', 'critYr': 2017, 'ptAge': 45, 'ptSexCd': 'F', 'statsTrgtNm': '', 'ncsNmvl': 0, 'wholNcsDnmvl': 0, 'ptCntNmvl': 10, 'wholPtCntDnmvl': 0, 'bycntrWholPtCntDnmvl': 0}\n",
            "{'centerNm': '국립암센터', 'critYr': 2019, 'ptAge': 63, 'ptSexCd': 'F', 'statsTrgtNm': '', 'ncsNmvl': 0, 'wholNcsDnmvl': 0, 'ptCntNmvl': 5, 'wholPtCntDnmvl': 0, 'bycntrWholPtCntDnmvl': 0}\n",
            "{'centerNm': '국립암센터', 'critYr': 2020, 'ptAge': 54, 'ptSexCd': 'M', 'statsTrgtNm': '', 'ncsNmvl': 0, 'wholNcsDnmvl': 0, 'ptCntNmvl': 7, 'wholPtCntDnmvl': 0, 'bycntrWholPtCntDnmvl': 0}\n",
            "{'centerNm': '국립암센터', 'critYr': 2019, 'ptAge': 46, 'ptSexCd': 'M', 'statsTrgtNm': '', 'ncsNmvl': 0, 'wholNcsDnmvl': 0, 'ptCntNmvl': 5, 'wholPtCntDnmvl': 0, 'bycntrWholPtCntDnmvl': 0}\n",
            "{'centerNm': '국립암센터', 'critYr': 2010, 'ptAge': 43, 'ptSexCd': 'M', 'statsTrgtNm': '', 'ncsNmvl': 0, 'wholNcsDnmvl': 0, 'ptCntNmvl': 8, 'wholPtCntDnmvl': 0, 'bycntrWholPtCntDnmvl': 0}\n",
            "{'centerNm': '국립암센터', 'critYr': 2018, 'ptAge': 37, 'ptSexCd': 'F', 'statsTrgtNm': '', 'ncsNmvl': 0, 'wholNcsDnmvl': 0, 'ptCntNmvl': 11, 'wholPtCntDnmvl': 0, 'bycntrWholPtCntDnmvl': 0}\n",
            "{'centerNm': '국립암센터', 'critYr': 2012, 'ptAge': 70, 'ptSexCd': 'F', 'statsTrgtNm': '', 'ncsNmvl': 0, 'wholNcsDnmvl': 0, 'ptCntNmvl': 7, 'wholPtCntDnmvl': 0, 'bycntrWholPtCntDnmvl': 0}\n",
            "{'centerNm': '국립암센터', 'critYr': 2013, 'ptAge': 69, 'ptSexCd': 'F', 'statsTrgtNm': '', 'ncsNmvl': 0, 'wholNcsDnmvl': 0, 'ptCntNmvl': 3, 'wholPtCntDnmvl': 0, 'bycntrWholPtCntDnmvl': 0}\n",
            "{'centerNm': '국립암센터', 'critYr': 2013, 'ptAge': 37, 'ptSexCd': 'M', 'statsTrgtNm': '', 'ncsNmvl': 0, 'wholNcsDnmvl': 0, 'ptCntNmvl': 4, 'wholPtCntDnmvl': 0, 'bycntrWholPtCntDnmvl': 0}\n",
            "{'centerNm': '국립암센터', 'critYr': 2010, 'ptAge': 62, 'ptSexCd': 'F', 'statsTrgtNm': '', 'ncsNmvl': 0, 'wholNcsDnmvl': 0, 'ptCntNmvl': 9, 'wholPtCntDnmvl': 0, 'bycntrWholPtCntDnmvl': 0}\n",
            "{'centerNm': '국립암센터', 'critYr': 2016, 'ptAge': 41, 'ptSexCd': 'M', 'statsTrgtNm': '', 'ncsNmvl': 0, 'wholNcsDnmvl': 0, 'ptCntNmvl': 2, 'wholPtCntDnmvl': 0, 'bycntrWholPtCntDnmvl': 0}\n",
            "{'centerNm': '국립암센터', 'critYr': 2014, 'ptAge': 58, 'ptSexCd': 'M', 'statsTrgtNm': '', 'ncsNmvl': 0, 'wholNcsDnmvl': 0, 'ptCntNmvl': 2, 'wholPtCntDnmvl': 0, 'bycntrWholPtCntDnmvl': 0}\n",
            "{'centerNm': '국립암센터', 'critYr': 2015, 'ptAge': 27, 'ptSexCd': 'M', 'statsTrgtNm': '', 'ncsNmvl': 0, 'wholNcsDnmvl': 0, 'ptCntNmvl': 3, 'wholPtCntDnmvl': 0, 'bycntrWholPtCntDnmvl': 0}\n",
            "{'centerNm': '국립암센터', 'critYr': 2016, 'ptAge': 50, 'ptSexCd': 'M', 'statsTrgtNm': '', 'ncsNmvl': 0, 'wholNcsDnmvl': 0, 'ptCntNmvl': 4, 'wholPtCntDnmvl': 0, 'bycntrWholPtCntDnmvl': 0}\n",
            "{'centerNm': '국립암센터', 'critYr': 2012, 'ptAge': 58, 'ptSexCd': 'M', 'statsTrgtNm': '', 'ncsNmvl': 0, 'wholNcsDnmvl': 0, 'ptCntNmvl': 3, 'wholPtCntDnmvl': 0, 'bycntrWholPtCntDnmvl': 0}\n",
            "{'centerNm': '국립암센터', 'critYr': 2012, 'ptAge': 81, 'ptSexCd': 'M', 'statsTrgtNm': '', 'ncsNmvl': 0, 'wholNcsDnmvl': 0, 'ptCntNmvl': 1, 'wholPtCntDnmvl': 0, 'bycntrWholPtCntDnmvl': 0}\n",
            "{'centerNm': '국립암센터', 'critYr': 2019, 'ptAge': 56, 'ptSexCd': 'M', 'statsTrgtNm': '', 'ncsNmvl': 0, 'wholNcsDnmvl': 0, 'ptCntNmvl': 6, 'wholPtCntDnmvl': 0, 'bycntrWholPtCntDnmvl': 0}\n",
            "{'centerNm': '국립암센터', 'critYr': 2019, 'ptAge': 86, 'ptSexCd': 'M', 'statsTrgtNm': '', 'ncsNmvl': 0, 'wholNcsDnmvl': 0, 'ptCntNmvl': 1, 'wholPtCntDnmvl': 0, 'bycntrWholPtCntDnmvl': 0}\n",
            "{'centerNm': '국립암센터', 'critYr': 2011, 'ptAge': 24, 'ptSexCd': 'F', 'statsTrgtNm': '', 'ncsNmvl': 0, 'wholNcsDnmvl': 0, 'ptCntNmvl': 5, 'wholPtCntDnmvl': 0, 'bycntrWholPtCntDnmvl': 0}\n",
            "{'centerNm': '국립암센터', 'critYr': 2010, 'ptAge': 72, 'ptSexCd': 'F', 'statsTrgtNm': '', 'ncsNmvl': 0, 'wholNcsDnmvl': 0, 'ptCntNmvl': 5, 'wholPtCntDnmvl': 0, 'bycntrWholPtCntDnmvl': 0}\n",
            "{'centerNm': '국립암센터', 'critYr': 2013, 'ptAge': 17, 'ptSexCd': 'F', 'statsTrgtNm': '', 'ncsNmvl': 0, 'wholNcsDnmvl': 0, 'ptCntNmvl': 1, 'wholPtCntDnmvl': 0, 'bycntrWholPtCntDnmvl': 0}\n",
            "{'centerNm': '국립암센터', 'critYr': 2008, 'ptAge': 33, 'ptSexCd': 'M', 'statsTrgtNm': '', 'ncsNmvl': 0, 'wholNcsDnmvl': 0, 'ptCntNmvl': 3, 'wholPtCntDnmvl': 0, 'bycntrWholPtCntDnmvl': 0}\n",
            "{'centerNm': '국립암센터', 'critYr': 2019, 'ptAge': 76, 'ptSexCd': 'M', 'statsTrgtNm': '', 'ncsNmvl': 0, 'wholNcsDnmvl': 0, 'ptCntNmvl': 1, 'wholPtCntDnmvl': 0, 'bycntrWholPtCntDnmvl': 0}\n",
            "{'centerNm': '국립암센터', 'critYr': 2013, 'ptAge': 38, 'ptSexCd': 'M', 'statsTrgtNm': '', 'ncsNmvl': 0, 'wholNcsDnmvl': 0, 'ptCntNmvl': 3, 'wholPtCntDnmvl': 0, 'bycntrWholPtCntDnmvl': 0}\n",
            "{'centerNm': '국립암센터', 'critYr': 2018, 'ptAge': 83, 'ptSexCd': 'M', 'statsTrgtNm': '', 'ncsNmvl': 0, 'wholNcsDnmvl': 0, 'ptCntNmvl': 1, 'wholPtCntDnmvl': 0, 'bycntrWholPtCntDnmvl': 0}\n",
            "{'centerNm': '국립암센터', 'critYr': 2015, 'ptAge': 71, 'ptSexCd': 'F', 'statsTrgtNm': '', 'ncsNmvl': 0, 'wholNcsDnmvl': 0, 'ptCntNmvl': 2, 'wholPtCntDnmvl': 0, 'bycntrWholPtCntDnmvl': 0}\n",
            "{'centerNm': '국립암센터', 'critYr': 2018, 'ptAge': 44, 'ptSexCd': 'M', 'statsTrgtNm': '', 'ncsNmvl': 0, 'wholNcsDnmvl': 0, 'ptCntNmvl': 4, 'wholPtCntDnmvl': 0, 'bycntrWholPtCntDnmvl': 0}\n",
            "{'centerNm': '국립암센터', 'critYr': 2016, 'ptAge': 76, 'ptSexCd': 'M', 'statsTrgtNm': '', 'ncsNmvl': 0, 'wholNcsDnmvl': 0, 'ptCntNmvl': 1, 'wholPtCntDnmvl': 0, 'bycntrWholPtCntDnmvl': 0}\n"
          ],
          "name": "stdout"
        }
      ]
    },
    {
      "cell_type": "code",
      "metadata": {
        "colab": {
          "base_uri": "https://localhost:8080/"
        },
        "id": "cki-S-ZrLwov",
        "outputId": "bf13c8ae-dba3-442c-e406-c8fe07b75737"
      },
      "source": [
        "df = pd.DataFrame(data2['response']['items']['item'])\n",
        "print(df)"
      ],
      "execution_count": 81,
      "outputs": [
        {
          "output_type": "stream",
          "text": [
            "   centerNm  critYr  ptAge  ... ptCntNmvl wholPtCntDnmvl  bycntrWholPtCntDnmvl\n",
            "0     국립암센터    2019     75  ...         4              0                     0\n",
            "1     국립암센터    2015     45  ...         3              0                     0\n",
            "2     국립암센터    2010     58  ...        17              0                     0\n",
            "3     국립암센터    2019     61  ...         2              0                     0\n",
            "4     국립암센터    2016     58  ...         9              0                     0\n",
            "..      ...     ...    ...  ...       ...            ...                   ...\n",
            "95    국립암센터    2013     38  ...         3              0                     0\n",
            "96    국립암센터    2018     83  ...         1              0                     0\n",
            "97    국립암센터    2015     71  ...         2              0                     0\n",
            "98    국립암센터    2018     44  ...         4              0                     0\n",
            "99    국립암센터    2016     76  ...         1              0                     0\n",
            "\n",
            "[100 rows x 10 columns]\n"
          ],
          "name": "stdout"
        }
      ]
    },
    {
      "cell_type": "code",
      "metadata": {
        "id": "N6AUFxdwMx8A"
      },
      "source": [
        ""
      ],
      "execution_count": null,
      "outputs": []
    }
  ]
}